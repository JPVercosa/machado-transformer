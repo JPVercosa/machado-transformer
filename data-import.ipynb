{
 "cells": [
  {
   "cell_type": "code",
   "execution_count": 1,
   "metadata": {},
   "outputs": [],
   "source": [
    "import opendatasets as od\n",
    "import os\n",
    "import shutil\n",
    "import re"
   ]
  },
  {
   "cell_type": "code",
   "execution_count": 2,
   "metadata": {},
   "outputs": [
    {
     "name": "stdout",
     "output_type": "stream",
     "text": [
      "Downloading machado-de-assis.zip to kaggle/input\\machado-de-assis\n"
     ]
    },
    {
     "name": "stderr",
     "output_type": "stream",
     "text": [
      "100%|██████████| 25.5M/25.5M [00:00<00:00, 68.6MB/s]\n"
     ]
    },
    {
     "name": "stdout",
     "output_type": "stream",
     "text": [
      "\n"
     ]
    }
   ],
   "source": [
    "#Download the dataset from Kaggle\n",
    "#It will ask for your Kaggle username and password\n",
    "#You can download a kaggle.json file from your Kaggle account and upload to same directory as this notebook\n",
    "od.download('https://www.kaggle.com/datasets/luxedo/machado-de-assis', data_dir='kaggle/input')"
   ]
  },
  {
   "cell_type": "code",
   "execution_count": 3,
   "metadata": {},
   "outputs": [
    {
     "name": "stdout",
     "output_type": "stream",
     "text": [
      "        1 dir(s) movido(s).\n",
      "        1 dir(s) movido(s).\n",
      "        1 dir(s) movido(s).\n",
      "        1 dir(s) movido(s).\n"
     ]
    }
   ],
   "source": [
    "#Necessary if you have problems with character encoding when downloading the dataset to it respective folder\n",
    "#Fixing path typos Windows: \n",
    "!move \"kaggle/input/machado-de-assis/raw/txt/cr├¡tica\" \"kaggle/input/machado-de-assis/raw/txt/critica\" \n",
    "!move \"kaggle/input/machado-de-assis/raw/txt/cr├┤nica\" \"kaggle/input/machado-de-assis/raw/txt/cronica\"\n",
    "!move \"kaggle/input/machado-de-assis/raw/txt/tradu├º├úo\" \"kaggle/input/machado-de-assis/raw/txt/traducoes\"\n",
    "!move \"kaggle/input/machado-de-assis/raw/txt/miscel├ónea\" \"kaggle/input/machado-de-assis/raw/txt/miscelanea\"\n",
    "\n",
    "#Fixing path typos Linux: \n",
    "# !mv kaggle\\input\\machado-de-assis\\raw\\txt\\cr├¡tica kaggle\\input\\machado-de-assis\\raw\\txt\\critica \n",
    "# !mv kaggle\\input\\machado-de-assis\\raw\\txt\\cr├┤nica kaggle\\input\\machado-de-assis\\raw\\txt\\cronica\n",
    "# !mv kaggle\\input\\machado-de-assis\\raw\\txt\\tradu├º├úo kaggle\\input\\machado-de-assis\\raw\\txt\\traducoes\n",
    "# !mv \"kaggle\\input\\machado-de-assis\\raw\\txt\\miscel├ónea\" \"kaggle\\input\\machado-de-assis\\raw\\txt\\miscelanea\""
   ]
  },
  {
   "cell_type": "code",
   "execution_count": 4,
   "metadata": {},
   "outputs": [],
   "source": [
    "#Copy all txt files to one folder\n",
    "txt_paths = [r'kaggle\\input\\machado-de-assis\\raw\\txt\\conto', r'kaggle\\input\\machado-de-assis\\raw\\txt\\critica', r'kaggle\\input\\machado-de-assis\\raw\\txt\\cronica',\n",
    "             r'kaggle\\input\\machado-de-assis\\raw\\txt\\miscelanea', r'kaggle\\input\\machado-de-assis\\raw\\txt\\poesia', r'kaggle\\input\\machado-de-assis\\raw\\txt\\romance', \n",
    "             r'kaggle\\input\\machado-de-assis\\raw\\txt\\teatro', r'kaggle\\input\\machado-de-assis\\raw\\txt\\traducoes']\n",
    "\n",
    "all_txt_path = r'kaggle\\input\\machado-de-assis\\all_txt'\n",
    "os.mkdir(all_txt_path)\n",
    "\n",
    "for directory in txt_paths:\n",
    "    for file in os.listdir(directory):\n",
    "        os.popen(fr'copy {directory}\\{file} kaggle\\input\\machado-de-assis\\all_txt')\n",
    "        \n"
   ]
  },
  {
   "cell_type": "code",
   "execution_count": 5,
   "metadata": {},
   "outputs": [],
   "source": [
    "#Create a single txt file with all the text from Machado de Assis\n",
    "text_files_list = os.listdir('kaggle/input/machado-de-assis/all_txt')\n",
    "\n",
    "with open('kaggle/input/machado-de-assis/machado.txt', 'w', encoding='utf-8') as outfile:\n",
    "    for fname in text_files_list:\n",
    "        with open('kaggle/input/machado-de-assis/all_txt/' + fname, encoding='utf-8') as infile:\n",
    "            shutil.copyfileobj(infile, outfile)\n"
   ]
  },
  {
   "cell_type": "code",
   "execution_count": 6,
   "metadata": {},
   "outputs": [],
   "source": [
    "#Create a single txt file with all the romances from Machado de Assis\n",
    "romance_files_list = os.listdir('kaggle/input/machado-de-assis/raw/txt/romance')\n",
    "\n",
    "with open('kaggle/input/machado-de-assis/romance.txt', 'w', encoding='utf-8') as outfile:\n",
    "    for fname in romance_files_list:\n",
    "        with open('kaggle/input/machado-de-assis/raw/txt/romance/' + fname, encoding='utf-8') as infile:\n",
    "            shutil.copyfileobj(infile, outfile)\n",
    "\n",
    "#Create a single txt file with all the cronicas from Machado de Assis\n",
    "cronica_files_list = os.listdir('kaggle/input/machado-de-assis/raw/txt/cronica')\n",
    "\n",
    "with open('kaggle/input/machado-de-assis/cronica.txt', 'w', encoding='utf-8') as outfile:\n",
    "    for fname in cronica_files_list:\n",
    "        with open('kaggle/input/machado-de-assis/raw/txt/cronica/' + fname, encoding='utf-8') as infile:\n",
    "            shutil.copyfileobj(infile, outfile)"
   ]
  },
  {
   "cell_type": "code",
   "execution_count": 7,
   "metadata": {},
   "outputs": [],
   "source": [
    "def replace(oldstr, newstr, infile, dryrun=False):\n",
    "    '''\n",
    "    Sed-like Replace function..\n",
    "    Usage: pysed.replace(<Old string>, <Replacement String>, <Text File>)\n",
    "    Example: pysed.replace('xyz', 'XYZ', '/path/to/file.txt')\n",
    "    Example 'DRYRUN': pysed.replace('xyz', 'XYZ', '/path/to/file.txt', dryrun=True) #This will dump the output to STDOUT instead of changing the input file.\n",
    "    '''\n",
    "    linelist = []\n",
    "    with open(infile) as f:\n",
    "        for item in f:\n",
    "            newitem = re.sub(oldstr, newstr, item)\n",
    "            linelist.append(newitem)\n",
    "    if dryrun == False:\n",
    "        with open(infile, \"w\") as f:\n",
    "            f.truncate()\n",
    "            for line in linelist:\n",
    "                f.writelines(line)\n",
    "    elif dryrun == True:\n",
    "        for line in linelist:\n",
    "            print(line, end='')\n",
    "    else:\n",
    "        exit(\"Unknown option specified to 'dryrun' argument, Usage: dryrun=<True|False>.\")"
   ]
  },
  {
   "cell_type": "code",
   "execution_count": 8,
   "metadata": {},
   "outputs": [
    {
     "name": "stdout",
     "output_type": "stream",
     "text": [
      "All chars in machado:\n",
      " !\"$%&'()*+,-./0123456789:;=?ABCDEFGHIJKLMNOPQRSTUVWXYZ_`abcdefghijklmnopqrstuvwxyz¡§ª«°´º»½¿ÀÁÂÃÇÈÉÊËÍÓÔÕÚÛÜàáâãäçèéêëìíîïñòóôõöùúûüœ–—―‘’“”…\n",
      "\tNúmero de caracteres: 143\n",
      "All chars in romance:\n",
      " !\"$%&'()*+,-./0123456789:;=?ABCDEFGHIJKLMNOPQRSTUVWXYZ_`abcdefghijklmnopqrstuvwxyz¡§ª«°´º»½¿ÀÁÂÃÇÈÉÊËÍÓÔÕÚÛÜàáâãäçèéêëìíîïñòóôõöùúûüœ–—―‘’“”…\n",
      "\tNúmero de caracteres: 143\n",
      "All chars in cronica:\n",
      " !\"$%&'()*+,-./0123456789:;=?ABCDEFGHIJKLMNOPQRSTUVWXYZ_`abcdefghijklmnopqrstuvwxyz¡§ª«°´º»½¿ÀÁÂÃÇÈÉÊËÍÓÔÕÚÛÜàáâãäçèéêëìíîïñòóôõöùúûüœ–—―‘’“”…\n",
      "\tNúmero de caracteres: 143\n"
     ]
    }
   ],
   "source": [
    "#Replacing some unusual characters to limit the number of unique characters in the dataset\n",
    "machado_path = 'kaggle/input/machado-de-assis/machado.txt'\n",
    "romance_path = 'kaggle/input/machado-de-assis/romance.txt'\n",
    "cronica_path = 'kaggle/input/machado-de-assis/cronica.txt'\n",
    "\n",
    "with open (machado_path, 'r', encoding='utf-8') as f1:\n",
    "    machado_old = f1.read()\n",
    "with open (machado_path, 'r', encoding='utf-8') as f2:\n",
    "    romance_old = f2.read()\n",
    "with open (machado_path, 'r', encoding='utf-8') as f3:\n",
    "    cronica_old = f3.read()\n",
    "\n",
    "\n",
    "chars_machado_old = sorted(list(set(machado_old)))\n",
    "chars_romance_old = sorted(list(set(romance_old)))\n",
    "chars_cronica_old = sorted(list(set(cronica_old)))\n",
    "print('All chars in machado:'+''.join(chars_machado_old)+'\\n\\tNúmero de caracteres: '+str(len(chars_machado_old)))\n",
    "print('All chars in romance:'+''.join(chars_romance_old)+'\\n\\tNúmero de caracteres: '+str(len(chars_machado_old)))\n",
    "print('All chars in cronica:'+''.join(chars_cronica_old)+'\\n\\tNúmero de caracteres: '+str(len(chars_machado_old)))\n",
    "\n",
    "#Replacing unusual characters and not used in portuguese\n",
    "replace_dict = {\n",
    "    '«': '-','»': '-','–': '-','—': '-','―': '-','º': '°','‘': \"'\",'’': \"'\",'“': '\"','”': '\"',\n",
    "    '…': '...','`': \"'\",'´': \"'\",'½': \"meia\",'¡': \"\",'¿': \"\",'œ': \"oe\",'§': \"paragrafo\",\n",
    "    'À': \"à\",'Á': \"á\",'Â': \"â\",'Ã': \"ã\",'È': \"e\",'É': \"é\",'Ê': \"ê\",'Ë': \"e\",'Í': \"í\",\n",
    "    'Ó': \"ó\",'Ô': \"ô\",'Õ': \"õ\",'Ú': \"ú\",'Û': \"u\",'Ü': \"u\",'ä': \"a\",'è': \"e\",'ë': \"e\",\n",
    "    'ì': \"i\",'î': \"i\",'ï': \"i\",'ñ': \"n\",'ò': \"o\",'ö': \"o\",'ù': \"u\",'û': \"u\",'ü': \"u\",\n",
    "    }\n",
    "\n",
    "for k, v in replace_dict.items():\n",
    "    replace(k, v, machado_path)\n",
    "    replace(k, v, romance_path)\n",
    "    replace(k, v, cronica_path)"
   ]
  },
  {
   "cell_type": "code",
   "execution_count": 9,
   "metadata": {},
   "outputs": [
    {
     "name": "stdout",
     "output_type": "stream",
     "text": [
      "All chars in machado after replace:\n",
      " !\"$%&'()*+,-./0123456789:;=?ABCDEFGHIJKLMNOPQRSTUVWXYZ_abcdefghijklmnopqrstuvwxyzª°Çàáâãçéêíóôõú\n",
      "\tNúmero de caracteres: 98\n",
      "All chars in romance after replace:\n",
      " !\"$%&'()*+,-./0123456789:;=?ABCDEFGHIJKLMNOPQRSTUVWXYZ_abcdefghijklmnopqrstuvwxyzª°Çàáâãçéêíóôõú\n",
      "\tNúmero de caracteres: 98\n",
      "All chars in cronica after replace:\n",
      " !\"$%&'()*+,-./0123456789:;=?ABCDEFGHIJKLMNOPQRSTUVWXYZ_abcdefghijklmnopqrstuvwxyzª°Çàáâãçéêíóôõú\n",
      "\tNúmero de caracteres: 98\n"
     ]
    }
   ],
   "source": [
    "with open (machado_path, 'r', encoding='utf-8') as f1:\n",
    "    machado = f1.read()\n",
    "with open (machado_path, 'r', encoding='utf-8') as f2:\n",
    "    romance = f2.read()\n",
    "with open (machado_path, 'r', encoding='utf-8') as f3:\n",
    "    cronica = f3.read()\n",
    "\n",
    "chars_machado = sorted(list(set(machado)))\n",
    "chars_romance = sorted(list(set(romance)))\n",
    "chars_cronica = sorted(list(set(cronica)))\n",
    "print('All chars in machado after replace:'+''.join(chars_machado)+'\\n\\tNúmero de caracteres: '+str(len(chars_machado)))\n",
    "print('All chars in romance after replace:'+''.join(chars_romance)+'\\n\\tNúmero de caracteres: '+str(len(chars_romance)))\n",
    "print('All chars in cronica after replace:'+''.join(chars_cronica)+'\\n\\tNúmero de caracteres: '+str(len(chars_cronica)))"
   ]
  }
 ],
 "metadata": {
  "kernelspec": {
   "display_name": "kaggle",
   "language": "python",
   "name": "python3"
  },
  "language_info": {
   "codemirror_mode": {
    "name": "ipython",
    "version": 3
   },
   "file_extension": ".py",
   "mimetype": "text/x-python",
   "name": "python",
   "nbconvert_exporter": "python",
   "pygments_lexer": "ipython3",
   "version": "3.9.13"
  },
  "orig_nbformat": 4
 },
 "nbformat": 4,
 "nbformat_minor": 2
}
