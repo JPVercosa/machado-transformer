{
 "cells": [
  {
   "cell_type": "code",
   "execution_count": 20,
   "metadata": {},
   "outputs": [
    {
     "name": "stdout",
     "output_type": "stream",
     "text": [
      "Downloading machado-de-assis.zip to kaggle/input\\machado-de-assis\n"
     ]
    },
    {
     "name": "stderr",
     "output_type": "stream",
     "text": [
      "100%|██████████| 25.5M/25.5M [00:00<00:00, 64.8MB/s]\n"
     ]
    },
    {
     "name": "stdout",
     "output_type": "stream",
     "text": [
      "\n"
     ]
    }
   ],
   "source": [
    "#Download the dataset from Kaggle\n",
    "import opendatasets as od\n",
    "od.download('https://www.kaggle.com/datasets/luxedo/machado-de-assis', data_dir='kaggle/input')"
   ]
  },
  {
   "cell_type": "code",
   "execution_count": 21,
   "metadata": {},
   "outputs": [
    {
     "name": "stdout",
     "output_type": "stream",
     "text": [
      "        1 dir(s) movido(s).\n",
      "        1 dir(s) movido(s).\n",
      "        1 dir(s) movido(s).\n",
      "        1 dir(s) movido(s).\n"
     ]
    }
   ],
   "source": [
    "#Necessary if you have problems with character encoding when downloading the dataset to it respective folder\n",
    "#Fixing path typos Windows: \n",
    "!move \"kaggle/input/machado-de-assis/raw/txt/cr├¡tica\" \"kaggle/input/machado-de-assis/raw/txt/critica\" \n",
    "!move \"kaggle/input/machado-de-assis/raw/txt/cr├┤nica\" \"kaggle/input/machado-de-assis/raw/txt/cronica\"\n",
    "!move \"kaggle/input/machado-de-assis/raw/txt/tradu├º├úo\" \"kaggle/input/machado-de-assis/raw/txt/traducoes\"\n",
    "!move \"kaggle/input/machado-de-assis/raw/txt/miscel├ónea\" \"kaggle/input/machado-de-assis/raw/txt/miscelanea\"\n",
    "\n",
    "#Fixing path typos Linux: \n",
    "# !mv kaggle\\input\\machado-de-assis\\raw\\txt\\cr├¡tica kaggle\\input\\machado-de-assis\\raw\\txt\\critica \n",
    "# !mv kaggle\\input\\machado-de-assis\\raw\\txt\\cr├┤nica kaggle\\input\\machado-de-assis\\raw\\txt\\cronica\n",
    "# !mv kaggle\\input\\machado-de-assis\\raw\\txt\\tradu├º├úo kaggle\\input\\machado-de-assis\\raw\\txt\\traducoes\n",
    "# !mv \"kaggle\\input\\machado-de-assis\\raw\\txt\\miscel├ónea\" \"kaggle\\input\\machado-de-assis\\raw\\txt\\miscelanea\""
   ]
  },
  {
   "cell_type": "code",
   "execution_count": 22,
   "metadata": {},
   "outputs": [],
   "source": [
    "#Copy all txt files to one folder\n",
    "import os\n",
    "\n",
    "txt_paths = [r'kaggle\\input\\machado-de-assis\\raw\\txt\\conto', r'kaggle\\input\\machado-de-assis\\raw\\txt\\critica', r'kaggle\\input\\machado-de-assis\\raw\\txt\\cronica',\n",
    "             r'kaggle\\input\\machado-de-assis\\raw\\txt\\miscelanea', r'kaggle\\input\\machado-de-assis\\raw\\txt\\poesia', r'kaggle\\input\\machado-de-assis\\raw\\txt\\romance', \n",
    "             r'kaggle\\input\\machado-de-assis\\raw\\txt\\teatro', r'kaggle\\input\\machado-de-assis\\raw\\txt\\traducoes']\n",
    "\n",
    "all_txt_path = r'kaggle\\input\\machado-de-assis\\all_txt'\n",
    "os.mkdir(all_txt_path)\n",
    "\n",
    "for directory in txt_paths:\n",
    "    for file in os.listdir(directory):\n",
    "        os.popen(fr'copy {directory}\\{file} kaggle\\input\\machado-de-assis\\all_txt')\n",
    "        \n"
   ]
  },
  {
   "cell_type": "code",
   "execution_count": 23,
   "metadata": {},
   "outputs": [],
   "source": [
    "#Create a single txt file with all the text from Machado de Assis\n",
    "import shutil\n",
    "\n",
    "text_files_list = os.listdir('kaggle/input/machado-de-assis/all_txt')\n",
    "\n",
    "with open('kaggle/input/machado-de-assis/machado.txt', 'w', encoding='utf-8') as outfile:\n",
    "    for fname in text_files_list:\n",
    "        with open('kaggle/input/machado-de-assis/all_txt/' + fname, encoding='utf-8') as infile:\n",
    "            shutil.copyfileobj(infile, outfile)\n"
   ]
  },
  {
   "cell_type": "code",
   "execution_count": 24,
   "metadata": {},
   "outputs": [],
   "source": [
    "import re\n",
    "\n",
    "def replace(oldstr, newstr, infile, dryrun=False):\n",
    "    '''\n",
    "    Sed-like Replace function..\n",
    "    Usage: pysed.replace(<Old string>, <Replacement String>, <Text File>)\n",
    "    Example: pysed.replace('xyz', 'XYZ', '/path/to/file.txt')\n",
    "    Example 'DRYRUN': pysed.replace('xyz', 'XYZ', '/path/to/file.txt', dryrun=True) #This will dump the output to STDOUT instead of changing the input file.\n",
    "    '''\n",
    "    linelist = []\n",
    "    with open(infile) as f:\n",
    "        for item in f:\n",
    "            newitem = re.sub(oldstr, newstr, item)\n",
    "            linelist.append(newitem)\n",
    "    if dryrun == False:\n",
    "        with open(infile, \"w\") as f:\n",
    "            f.truncate()\n",
    "            for line in linelist:\n",
    "                f.writelines(line)\n",
    "    elif dryrun == True:\n",
    "        for line in linelist:\n",
    "            print(line, end='')\n",
    "    else:\n",
    "        exit(\"Unknown option specified to 'dryrun' argument, Usage: dryrun=<True|False>.\")\n",
    "\n"
   ]
  },
  {
   "cell_type": "code",
   "execution_count": 25,
   "metadata": {},
   "outputs": [
    {
     "name": "stdout",
     "output_type": "stream",
     "text": [
      "\n",
      " !\"$%&'()*+,-./0123456789:;=?ABCDEFGHIJKLMNOPQRSTUVWXYZ_`abcdefghijklmnopqrstuvwxyz¡§ª«°´º»½¿ÀÁÂÃÇÈÉÊËÍÓÔÕÚÛÜàáâãäçèéêëìíîïñòóôõöùúûüœ–—―‘’“”…\n",
      "\n",
      " !\"$%&'()*+,-./0123456789:;=?ABCDEFGHIJKLMNOPQRSTUVWXYZ_abcdefghijklmnopqrstuvwxyz§ª°ÀÁÂÃÇÈÉÊËÍÓÔÕÚÛÜàáâãäçèéêëìíîïñòóôõöùúûüœ\n"
     ]
    }
   ],
   "source": [
    "#Replacing some unusual characters to limit the number of unique characters in the dataset\n",
    "machado_path = 'kaggle/input/machado-de-assis/machado.txt'\n",
    "with open (machado_path, 'r', encoding='utf-8') as f:\n",
    "    machado_old = f.read()\n",
    "\n",
    "chars = sorted(list(set(machado_old)))\n",
    "print(''.join(chars))        \n",
    "\n",
    "replace('«', '-', 'kaggle/input/machado-de-assis/machado.txt')\n",
    "replace('»', '-', 'kaggle/input/machado-de-assis/machado.txt')\n",
    "replace('–', '-', 'kaggle/input/machado-de-assis/machado.txt')\n",
    "replace('—', '-', 'kaggle/input/machado-de-assis/machado.txt')\n",
    "replace('―', '-', 'kaggle/input/machado-de-assis/machado.txt')\n",
    "replace('º', '°', 'kaggle/input/machado-de-assis/machado.txt')\n",
    "replace('‘', \"'\", 'kaggle/input/machado-de-assis/machado.txt')\n",
    "replace('’', \"'\", 'kaggle/input/machado-de-assis/machado.txt')\n",
    "replace('“', '\"', 'kaggle/input/machado-de-assis/machado.txt')\n",
    "replace('”', '\"', 'kaggle/input/machado-de-assis/machado.txt')\n",
    "replace('…', '...', 'kaggle/input/machado-de-assis/machado.txt')\n",
    "replace('`', \"'\", 'kaggle/input/machado-de-assis/machado.txt')\n",
    "replace('´', \"'\", 'kaggle/input/machado-de-assis/machado.txt')\n",
    "replace('½', \"meia\", 'kaggle/input/machado-de-assis/machado.txt')\n",
    "replace('¡', \"\", 'kaggle/input/machado-de-assis/machado.txt')\n",
    "replace('¿', \"\", 'kaggle/input/machado-de-assis/machado.txt')\n",
    "\n",
    "\n",
    "machado_path = 'kaggle/input/machado-de-assis/machado.txt'\n",
    "with open (machado_path, 'r', encoding='utf-8') as f:\n",
    "    machado = f.read()\n",
    "\n",
    "chars = sorted(list(set(machado)))\n",
    "print(''.join(chars))\n"
   ]
  }
 ],
 "metadata": {
  "kernelspec": {
   "display_name": "kaggle",
   "language": "python",
   "name": "python3"
  },
  "language_info": {
   "codemirror_mode": {
    "name": "ipython",
    "version": 3
   },
   "file_extension": ".py",
   "mimetype": "text/x-python",
   "name": "python",
   "nbconvert_exporter": "python",
   "pygments_lexer": "ipython3",
   "version": "3.9.13"
  },
  "orig_nbformat": 4
 },
 "nbformat": 4,
 "nbformat_minor": 2
}
